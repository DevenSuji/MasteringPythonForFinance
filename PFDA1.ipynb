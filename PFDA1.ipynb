{
  "nbformat": 4,
  "nbformat_minor": 0,
  "metadata": {
    "colab": {
      "name": "PFDA1.ipynb",
      "provenance": [],
      "authorship_tag": "ABX9TyOFLjOQJd16jhBWMbBfnJGc",
      "include_colab_link": true
    },
    "kernelspec": {
      "name": "python3",
      "display_name": "Python 3"
    }
  },
  "cells": [
    {
      "cell_type": "markdown",
      "metadata": {
        "id": "view-in-github",
        "colab_type": "text"
      },
      "source": [
        "<a href=\"https://colab.research.google.com/github/DevenSuji/MasteringPythonForFinance/blob/master/PFDA1.ipynb\" target=\"_parent\"><img src=\"https://colab.research.google.com/assets/colab-badge.svg\" alt=\"Open In Colab\"/></a>"
      ]
    },
    {
      "cell_type": "code",
      "metadata": {
        "id": "xz5hGLzrabtB",
        "colab_type": "code",
        "colab": {}
      },
      "source": [
        "import numpy as np"
      ],
      "execution_count": 1,
      "outputs": []
    },
    {
      "cell_type": "code",
      "metadata": {
        "id": "iJckd_7VajIe",
        "colab_type": "code",
        "colab": {}
      },
      "source": [
        "data = {i : np.random.randn() for i in range(7)}"
      ],
      "execution_count": 2,
      "outputs": []
    },
    {
      "cell_type": "code",
      "metadata": {
        "id": "rCqMHD40auCD",
        "colab_type": "code",
        "colab": {
          "base_uri": "https://localhost:8080/",
          "height": 134
        },
        "outputId": "0ff6d338-a6b1-444b-91b1-c6c736266a3d"
      },
      "source": [
        "data"
      ],
      "execution_count": 3,
      "outputs": [
        {
          "output_type": "execute_result",
          "data": {
            "text/plain": [
              "{0: 0.577272227835877,\n",
              " 1: 0.5499419813740575,\n",
              " 2: 0.14018679589334312,\n",
              " 3: -1.784456598133741,\n",
              " 4: 0.7941901476736472,\n",
              " 5: -0.40778217444112835,\n",
              " 6: 0.9632556102121257}"
            ]
          },
          "metadata": {
            "tags": []
          },
          "execution_count": 3
        }
      ]
    }
  ]
}