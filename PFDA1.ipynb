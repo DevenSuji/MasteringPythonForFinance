{
  "nbformat": 4,
  "nbformat_minor": 0,
  "metadata": {
    "colab": {
      "name": "PFDA1.ipynb",
      "provenance": [],
      "collapsed_sections": [],
      "authorship_tag": "ABX9TyN44HCaE97FXjFDWmrfA7Mp",
      "include_colab_link": true
    },
    "kernelspec": {
      "name": "python3",
      "display_name": "Python 3"
    }
  },
  "cells": [
    {
      "cell_type": "markdown",
      "metadata": {
        "id": "view-in-github",
        "colab_type": "text"
      },
      "source": [
        "<a href=\"https://colab.research.google.com/github/DevenSuji/MasteringPythonForFinance/blob/master/PFDA1.ipynb\" target=\"_parent\"><img src=\"https://colab.research.google.com/assets/colab-badge.svg\" alt=\"Open In Colab\"/></a>"
      ]
    },
    {
      "cell_type": "code",
      "metadata": {
        "id": "xz5hGLzrabtB",
        "colab_type": "code",
        "colab": {}
      },
      "source": [
        "import numpy as np"
      ],
      "execution_count": 1,
      "outputs": []
    },
    {
      "cell_type": "code",
      "metadata": {
        "id": "iJckd_7VajIe",
        "colab_type": "code",
        "colab": {}
      },
      "source": [
        "data = {i : np.random.randn() for i in range(7)}"
      ],
      "execution_count": 2,
      "outputs": []
    },
    {
      "cell_type": "code",
      "metadata": {
        "id": "rCqMHD40auCD",
        "colab_type": "code",
        "colab": {
          "base_uri": "https://localhost:8080/",
          "height": 134
        },
        "outputId": "fc448e3f-1c25-4730-ad9a-04f02c4c18a4"
      },
      "source": [
        "data"
      ],
      "execution_count": 4,
      "outputs": [
        {
          "output_type": "execute_result",
          "data": {
            "text/plain": [
              "{0: 0.577272227835877,\n",
              " 1: 0.5499419813740575,\n",
              " 2: 0.14018679589334312,\n",
              " 3: -1.784456598133741,\n",
              " 4: 0.7941901476736472,\n",
              " 5: -0.40778217444112835,\n",
              " 6: 0.9632556102121257}"
            ]
          },
          "metadata": {
            "tags": []
          },
          "execution_count": 4
        }
      ]
    },
    {
      "cell_type": "code",
      "metadata": {
        "id": "okCxEXdXcvOE",
        "colab_type": "code",
        "colab": {}
      },
      "source": [
        "def add_numbers(a, b):\n",
        "  \"\"\"\n",
        "  Add two numbers together\n",
        "  \n",
        "  Returns\n",
        "  ------------\n",
        "  the_sum: type of arguments\n",
        "  \"\"\"\n",
        "  return a + b"
      ],
      "execution_count": 11,
      "outputs": []
    },
    {
      "cell_type": "code",
      "metadata": {
        "id": "YJdv7NqNdgx9",
        "colab_type": "code",
        "colab": {}
      },
      "source": [
        "add_numbers??"
      ],
      "execution_count": 17,
      "outputs": []
    },
    {
      "cell_type": "markdown",
      "metadata": {
        "id": "EXUrG38Ee5HT",
        "colab_type": "text"
      },
      "source": [
        "*   add_numbers? shows the doc strings\n",
        "*   add_numbers?? Shows the doc strings along with the source code"
      ]
    },
    {
      "cell_type": "code",
      "metadata": {
        "id": "6wB7MGyoeur7",
        "colab_type": "code",
        "colab": {}
      },
      "source": [
        "np.*load*?"
      ],
      "execution_count": 18,
      "outputs": []
    },
    {
      "cell_type": "markdown",
      "metadata": {
        "id": "K8WOw-lwfcQA",
        "colab_type": "text"
      },
      "source": [
        "* np.*load*?: Shows all the functions that has the word load in its name.\n",
        "\n"
      ]
    },
    {
      "cell_type": "code",
      "metadata": {
        "id": "tY4zF03df8FC",
        "colab_type": "code",
        "colab": {
          "base_uri": "https://localhost:8080/",
          "height": 34
        },
        "outputId": "a081417a-5907-49f8-9642-b131ea8efc2a"
      },
      "source": [
        "cd /content/sample_data/ScriptFiles"
      ],
      "execution_count": 19,
      "outputs": [
        {
          "output_type": "stream",
          "text": [
            "/content/sample_data/ScriptFiles\n"
          ],
          "name": "stdout"
        }
      ]
    },
    {
      "cell_type": "code",
      "metadata": {
        "id": "S9gSYvYngVI3",
        "colab_type": "code",
        "colab": {}
      },
      "source": [
        "%run ipython_script_test.py"
      ],
      "execution_count": 22,
      "outputs": []
    },
    {
      "cell_type": "code",
      "metadata": {
        "id": "YHvmJJfFgmTx",
        "colab_type": "code",
        "colab": {
          "base_uri": "https://localhost:8080/",
          "height": 34
        },
        "outputId": "c1d26adc-2f6a-418f-b147-d0724872b5bc"
      },
      "source": [
        "cd -"
      ],
      "execution_count": 23,
      "outputs": [
        {
          "output_type": "stream",
          "text": [
            "/content\n"
          ],
          "name": "stdout"
        }
      ]
    },
    {
      "cell_type": "code",
      "metadata": {
        "id": "UgVNO76zgqVi",
        "colab_type": "code",
        "colab": {
          "base_uri": "https://localhost:8080/",
          "height": 35
        },
        "outputId": "7fa22a3c-3cfc-43bb-dad6-49fcc94711e6"
      },
      "source": [
        "pwd"
      ],
      "execution_count": 24,
      "outputs": [
        {
          "output_type": "execute_result",
          "data": {
            "application/vnd.google.colaboratory.intrinsic": {
              "type": "string"
            },
            "text/plain": [
              "'/content'"
            ]
          },
          "metadata": {
            "tags": []
          },
          "execution_count": 24
        }
      ]
    }
  ]
}